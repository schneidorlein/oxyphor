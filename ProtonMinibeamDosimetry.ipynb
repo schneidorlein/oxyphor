{
 "cells": [
  {
   "cell_type": "code",
   "execution_count": 2,
   "id": "3777dccf",
   "metadata": {},
   "outputs": [],
   "source": [
    "import pyvisa\n",
    "import struct\n",
    "import time\n",
    "import numpy as np\n",
    "import matplotlib.pyplot as plt\n",
    "from drawnow import drawnow, figure\n",
    "import keyboard\n",
    "import MecademicRobot"
   ]
  },
  {
   "cell_type": "code",
   "execution_count": 3,
   "id": "80558956",
   "metadata": {},
   "outputs": [],
   "source": [
    "from threading import Thread"
   ]
  },
  {
   "cell_type": "markdown",
   "id": "b6fb1279",
   "metadata": {},
   "source": [
    "# Establish connection to Keithley"
   ]
  },
  {
   "cell_type": "code",
   "execution_count": 4,
   "id": "5ce49c98",
   "metadata": {},
   "outputs": [
    {
     "data": {
      "text/plain": [
       "('ASRL4::INSTR', 'ASRL5::INSTR', 'ASRL8::INSTR', 'ASRL9::INSTR')"
      ]
     },
     "execution_count": 4,
     "metadata": {},
     "output_type": "execute_result"
    }
   ],
   "source": [
    "# Get connection to Keithley:\n",
    "rm = pyvisa.ResourceManager()\n",
    "rm.list_resources()"
   ]
  },
  {
   "cell_type": "code",
   "execution_count": 5,
   "id": "84603690",
   "metadata": {},
   "outputs": [
    {
     "data": {
      "text/plain": [
       "'-000.0045E-09NCOUL,+0000640.971549secs,+06330RDNG#\\n'"
      ]
     },
     "execution_count": 5,
     "metadata": {},
     "output_type": "execute_result"
    }
   ],
   "source": [
    "# Get Communication to both electrometers\n",
    "inst1 = rm.open_resource('ASRL8::INSTR') # Beam pipe\n",
    "inst1.write(\":SYST:ZCH 1\")\n",
    "inst1.write(\":SYST:ZCH 0\")\n",
    "inst1.write(\":FUNC 'CHAR'\")\n",
    "inst2 = rm.open_resource('ASRL9::INSTR') # minibeam\n",
    "inst2.write(\":SYST:ZCH 1\")\n",
    "inst2.write(\":SYST:ZCH 0\")\n",
    "inst2.write(\":FUNC 'CHAR'\")\n",
    "inst2.query(\":MEAS:CHAR?\")"
   ]
  },
  {
   "cell_type": "code",
   "execution_count": 6,
   "id": "4781cb7b",
   "metadata": {},
   "outputs": [
    {
     "data": {
      "text/plain": [
       "'+000.0089E-09NCOUL,+0000587.884696secs,+05799RDNG#\\n'"
      ]
     },
     "execution_count": 6,
     "metadata": {},
     "output_type": "execute_result"
    }
   ],
   "source": [
    "inst1.query(\":meas:CHAR?\")"
   ]
  },
  {
   "cell_type": "code",
   "execution_count": 4,
   "id": "74aaa18a",
   "metadata": {},
   "outputs": [],
   "source": [
    "robot = MecademicRobot.RobotController('192.168.143.205') #(172.25.181.121')"
   ]
  },
  {
   "cell_type": "markdown",
   "id": "a1151b15",
   "metadata": {},
   "source": [
    "# Some definitions"
   ]
  },
  {
   "cell_type": "code",
   "execution_count": 5,
   "id": "00715595",
   "metadata": {},
   "outputs": [],
   "source": [
    "## Initialize robot, move to start position\n",
    "def prepareRobot():   \n",
    "    robot.connect()\n",
    "    robot.ActivateRobot()\n",
    "    robot.home()\n",
    "    robot.MovePose(250, 0, 150, 0, 90, 0)"
   ]
  },
  {
   "cell_type": "code",
   "execution_count": 8,
   "id": "180ce5af",
   "metadata": {},
   "outputs": [],
   "source": [
    "# Get reading of diamond at beam pipe\n",
    "def getCorrection(result, integrationTime):\n",
    "    Abfrage = inst1.query(\":meas:CHAR?\")\n",
    "    A2 = float(Abfrage.split(\",\")[0][0:-5])\n",
    "    t1_2 = float(Abfrage.split(\",\")[1][0:-5])\n",
    "    time.sleep(integrationTime)\n",
    "    Abfrage = inst1.query(\":meas:CHAR?\")\n",
    "    B2 = float(Abfrage.split(\",\")[0][0:-5])\n",
    "    t2_2 = float(Abfrage.split(\",\")[1][0:-5])\n",
    "    \n",
    "    try:\n",
    "        erg = (B2-A2)/(t2_2-t1_2)\n",
    "    except:\n",
    "        erg = 0\n",
    "    result.append(erg)"
   ]
  },
  {
   "cell_type": "code",
   "execution_count": 9,
   "id": "814fdb15",
   "metadata": {},
   "outputs": [],
   "source": [
    "# Get reading of diamond at robot\n",
    "def getChargeParallel(integrationTime, corrThread, results):\n",
    "    corrThread.start() # To synchronize timing with above function\n",
    "    Abfrage = inst2.query(\":meas:CHAR?\")\n",
    "    A1 = float(Abfrage.split(\",\")[0][0:-5])\n",
    "    t1_1 = float(Abfrage.split(\",\")[1][0:-5])\n",
    "    time.sleep(integrationTime)\n",
    "    Abfrage = inst2.query(\":meas:CHAR?\")\n",
    "    B1 = float(Abfrage.split(\",\")[0][0:-5])\n",
    "    t2_1 = float(Abfrage.split(\",\")[1][0:-5])\n",
    "    \n",
    "    corrThread.join()\n",
    "    \n",
    "    Charge1 = (B1-A1)/(t2_1-t1_1) \n",
    "    Charge2 = results[-1]\n",
    "    \n",
    "    #try:\n",
    "        #correctedCharge = Charge/results[-1]\n",
    "    return Charge1, Charge2\n",
    "    #except:\n",
    "    #    correctedCharge = 0\n",
    "        \n",
    "    "
   ]
  },
  {
   "cell_type": "code",
   "execution_count": 10,
   "id": "a3a4d308",
   "metadata": {},
   "outputs": [],
   "source": [
    "# ignore\n",
    "def getCharge(integrationTime):\n",
    "    Abfrage = inst1.query(\":meas:CHAR?\")\n",
    "    A1 = float(Abfrage.split(\",\")[0][0:-5])\n",
    "    t1_1 = float(Abfrage.split(\",\")[1][0:-5])\n",
    "    Abfrage = inst2.query(\":meas:CHAR?\")\n",
    "    A2 = float(Abfrage.split(\",\")[0][0:-5])\n",
    "    t1_2 = float(Abfrage.split(\",\")[1][0:-5])\n",
    "    time.sleep(integrationTime)\n",
    "    Abfrage = inst1.query(\":meas:CHAR?\")\n",
    "    B1 = float(Abfrage.split(\",\")[0][0:-5])\n",
    "    t2_1 = float(Abfrage.split(\",\")[1][0:-5])\n",
    "    Abfrage = inst2.query(\":meas:CHAR?\")\n",
    "    B2 = float(Abfrage.split(\",\")[0][0:-5])\n",
    "    t2_2 = float(Abfrage.split(\",\")[1][0:-5])\n",
    "    try:\n",
    "        return ((B1-A1)/(t2_1-t1_1))/((B2-A2)/(t2_2-t1_2))\n",
    "    except:\n",
    "        return 0"
   ]
  },
  {
   "cell_type": "code",
   "execution_count": 11,
   "id": "28f27ab1",
   "metadata": {},
   "outputs": [],
   "source": [
    "def drawFigure():\n",
    "    plt.plot(positions, Charge)"
   ]
  },
  {
   "cell_type": "markdown",
   "id": "b09bc675",
   "metadata": {},
   "source": [
    "# Prepare robot for scan"
   ]
  },
  {
   "cell_type": "code",
   "execution_count": 6,
   "id": "10d5ea27",
   "metadata": {},
   "outputs": [],
   "source": [
    "robot = MecademicRobot.RobotController('192.168.143.205') #(172.25.181.121')"
   ]
  },
  {
   "cell_type": "code",
   "execution_count": 7,
   "id": "9281f777",
   "metadata": {},
   "outputs": [
    {
     "data": {
      "text/plain": [
       "True"
      ]
     },
     "execution_count": 7,
     "metadata": {},
     "output_type": "execute_result"
    }
   ],
   "source": [
    "robot.connect()"
   ]
  },
  {
   "cell_type": "code",
   "execution_count": 8,
   "id": "dac48de8",
   "metadata": {},
   "outputs": [],
   "source": [
    "prepareRobot()"
   ]
  },
  {
   "cell_type": "code",
   "execution_count": 9,
   "id": "680025b8",
   "metadata": {},
   "outputs": [
    {
     "data": {
      "text/plain": [
       "'Homing already done.'"
      ]
     },
     "execution_count": 9,
     "metadata": {},
     "output_type": "execute_result"
    }
   ],
   "source": [
    "robot.home()"
   ]
  },
  {
   "cell_type": "code",
   "execution_count": 10,
   "id": "92cf28aa",
   "metadata": {},
   "outputs": [
    {
     "data": {
      "text/plain": [
       "'There was no error to reset.'"
      ]
     },
     "execution_count": 10,
     "metadata": {},
     "output_type": "execute_result"
    }
   ],
   "source": [
    "robot.ResetError()"
   ]
  },
  {
   "cell_type": "markdown",
   "id": "350b5b1d",
   "metadata": {},
   "source": [
    "## start from here to inialize for scan with diamond"
   ]
  },
  {
   "cell_type": "code",
   "execution_count": 11,
   "id": "8d1c6bea",
   "metadata": {},
   "outputs": [
    {
     "data": {
      "text/plain": [
       "'End of block.'"
      ]
     },
     "execution_count": 11,
     "metadata": {},
     "output_type": "execute_result"
    }
   ],
   "source": [
    "# move robot to position \n",
    "# 1st argument: horizontal position\n",
    "# 2nd: in beam direction\n",
    "# 3rd: vertical position\n",
    "# Modify here and in main loop !!!\n",
    "robot.MovePose(220, 0, 116, 0, 90, 0)#270,0,155,0,90,0 (13.12.21 microDimamond Position)"
   ]
  },
  {
   "cell_type": "code",
   "execution_count": 22,
   "id": "6152478d",
   "metadata": {},
   "outputs": [],
   "source": [
    "# Definition for scan with diamond\n",
    "resolution = 0.05 #mm (Step size in mm)\n",
    "fieldSize = 6 #mm (Scan length)\n",
    "steps = int(fieldSize/resolution)\n",
    "integrationTime = 1 #s\n",
    "positions = []\n",
    "Charge = []\n",
    "results = []"
   ]
  },
  {
   "cell_type": "markdown",
   "id": "c0edaa20",
   "metadata": {},
   "source": [
    "# Main loop"
   ]
  },
  {
   "cell_type": "code",
   "execution_count": 23,
   "id": "115ff6de",
   "metadata": {},
   "outputs": [],
   "source": [
    "%matplotlib qt\n",
    "fhd = open('MultiSlitAperture_17.12.21_1.txt', 'w')\n",
    "inst1.write(\":SYST:TST:REL:RES\")\n",
    "inst2.write(\":SYST:TST:REL:RES\")\n",
    "inst1.write(\":SYST:ZCH 1\")\n",
    "inst1.write(\":SYST:ZCH 0\")\n",
    "inst2.write(\":SYST:ZCH 1\")\n",
    "inst2.write(\":SYST:ZCH 0\")\n",
    "plt.figure\n",
    "plt.clf()\n",
    "for i in range(steps):\n",
    "    robot.MovePose(268+i*resolution, 0, 116, 0, 90, 0) # match with position above\n",
    "    positions.append(i*resolution)\n",
    "    results.clear()\n",
    "    corrThread = Thread(target=getCorrection, args=(results, integrationTime, ))\n",
    "    Charge1, Charge2 = getChargeParallel(integrationTime, corrThread, results)\n",
    "    Charge.append(Charge1)\n",
    "    fhd.write(str(positions[-1])+ '\\t'+str(Charge1)+'\\t'+str(Charge2)+'\\n')\n",
    "    drawnow(drawFigure)\n",
    "    time.sleep(0.5)\n",
    "    if keyboard.is_pressed('q'):\n",
    "        break\n",
    "fhd.close()"
   ]
  },
  {
   "cell_type": "code",
   "execution_count": 63,
   "id": "f470a29d",
   "metadata": {},
   "outputs": [],
   "source": [
    "robot.DeactivateRobot()\n",
    "robot.disconnect()"
   ]
  }
 ],
 "metadata": {
  "kernelspec": {
   "display_name": "Python 3",
   "language": "python",
   "name": "python3"
  },
  "language_info": {
   "codemirror_mode": {
    "name": "ipython",
    "version": 3
   },
   "file_extension": ".py",
   "mimetype": "text/x-python",
   "name": "python",
   "nbconvert_exporter": "python",
   "pygments_lexer": "ipython3",
   "version": "3.8.8"
  }
 },
 "nbformat": 4,
 "nbformat_minor": 5
}
